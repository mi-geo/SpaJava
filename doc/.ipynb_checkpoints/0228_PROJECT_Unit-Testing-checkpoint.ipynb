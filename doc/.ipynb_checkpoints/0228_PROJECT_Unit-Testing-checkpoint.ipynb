{
 "cells": [
  {
   "cell_type": "markdown",
   "metadata": {},
   "source": [
    "In order to successfully complete this assignment you need to commit changes to your shared git repository on or before **11:59pm on Friday February 28**."
   ]
  },
  {
   "cell_type": "markdown",
   "metadata": {},
   "source": [
    "# <center>Building testing suite for a project</center>\n",
    "\n",
    "<img src=\"https://docs.pytest.org/en/latest/_static/pytest1.png\" width=20% alt=\"pyTest logo\">\n",
    "\n",
    "One of the tools to make your software package bug-free, or at least robust as possible, is to add testing classes/methods to your code. These methods, in connection with module **pytest** enable you to test if your current version of the code still performs as intended. This is specially important as the code is evolving all the time and with new functionality, old functionality might fail.\n",
    "\n",
    "The most common reasons for not using these tools is that people **a)** don't know they exist or **b)** the learning curve is too high for using them.\n",
    "\n",
    "One of the major goals of this course is to give each of you an opportunity to learn the basics of these types of tools and try to lower the barriers for you to adopt and use them in your research. The commonly used testing environments in Python are:\n",
    "\n",
    " - [unittest](https://docs.python.org/3/library/unittest.html)\n",
    " - [nose](https://pypi.org/project/nose/)\n",
    " - [pytest](https://docs.pytest.org/)\n"
   ]
  },
  {
   "cell_type": "markdown",
   "metadata": {},
   "source": [
    "For this assignment you could use any testing environment you like. The instructions below will be written for **pytest**. Your Anaconda installation should have ```pyTest``` module already installed, but check if this is the case:\n",
    "\n",
    " - **Linux/macOS/Unix**: in *terminal*, write the following: ```conda list | grep pytest```\n",
    "\n",
    " - **Windows**: in *Anaconda Prompt* or *PowerShell*, use the following command: ```conda list | findstr \"pytest\"```\n",
    "\n",
    "If the command shows few line with **pytest** in them, you are good to go. If not, install pytest with: ```conda install pytest```. \n",
    "\n",
    "Before writing test scripts for pytest, first watch short video about usage of pytest."
   ]
  },
  {
   "cell_type": "code",
   "execution_count": null,
   "metadata": {},
   "outputs": [],
   "source": [
    "from IPython.display import YouTubeVideo\n",
    "YouTubeVideo(\"_QtM7QGuj1A\",width=640,height=360,cc_load_policy=True)"
   ]
  },
  {
   "cell_type": "markdown",
   "metadata": {},
   "source": [
    "---\n",
    "# Instructions\n",
    "\n",
    "The above video suggests to store testing script next to (in the same directory) as your Python scripts. However, another good thing to do is create a subdirectory named **_tests_** inside the ```ProjectName-->mysourcename``` directory."
   ]
  },
  {
   "cell_type": "markdown",
   "metadata": {},
   "source": [
    "## Short hands-on practice of writing test scripts"
   ]
  },
  {
   "cell_type": "markdown",
   "metadata": {},
   "source": [
    "The easiest way to learn programming is to learn it firsthand, so lets create simple script for loading \"input\" file to your code and testing script to test if the function performs as intended. \n",
    "\n",
    "Testing can be done for individual objects/classes/methods/functions or of the program as a whole. The best is to test small pieces of codes (classes or functions) first and then later the whole code as the code grows."
   ]
  },
  {
   "cell_type": "markdown",
   "metadata": {},
   "source": [
    "&#9989; **<font color=red>Step 1:</font>** For the purpose of the test, create a short Python file named ```read_file.py``` in your code directory. The purpose of the function is to read input for for your \"simulation\". The content of the file is as follows:\n",
    "```python\n",
    "import numpy as np \n",
    "import os\n",
    "\n",
    "def read_file(filename):\n",
    "    '''\n",
    "        Read input file with given name.\n",
    "        \n",
    "        Args:\n",
    "            filename (string): full path for input file\n",
    "        Returns:\n",
    "            (numpy array): the content of the file\n",
    "    '''\n",
    "    if not os.path.isfile(filename):\n",
    "        raise ValueError(\"Input file does not exist: {0}. I'll quit now.\".format(filename))\n",
    "\n",
    "    # code to load and parse the data from input file\n",
    "    data = np.loadtxt(filename, delimiter=',')\n",
    "\n",
    "    if len(data) < 5:\n",
    "        # there should be 5 rows\n",
    "        raise ValueError(\"Not enough rows in input file.\")\n",
    "\n",
    "    return data\n",
    "```"
   ]
  },
  {
   "cell_type": "markdown",
   "metadata": {},
   "source": [
    "&#9989; **<font color=red>Step 2:</font>** Following the naming convention for test scripts, create a Python script named ```test_read_file.py``` in directory ```tests```. The test will check if function for loading an input file can handle different input parameters: if the file exists, if the content of the file is not complete, etc. \n",
    "\n",
    "The test script will have 3 functions, each testing different functionality of the ```read_file``` function. When testing, 3 tests will be performed and if all goes according to plan, testing should result in **3 tests passed**.\n",
    "\n",
    "The content of the file is following:\n",
    "\n",
    "```python \n",
    "import read_file\n",
    "import pytest\n",
    "import numpy as np \n",
    "\n",
    "def test_file_load_good():\n",
    "    # test if function returns numpy array for good input file.\n",
    "    data = read_file.read_file(\"input_good.inp\")\n",
    "    assert type(data) == np.ndarray\n",
    "\n",
    "def test_file_load_bad():\n",
    "    # Test if the function raises the exception if nonexisting file name is passed as parameter.\n",
    "    with pytest.raises(ValueError) as excinfo:\n",
    "        read_file.read_file(\"input_bad.inp\")\n",
    "\n",
    "    assert \"enough rows in input file\" in str(excinfo.value)\n",
    "\n",
    "def test_file_load_missing_file():\n",
    "    # Test if the function raises the exception if nonexisting file name is passed as parameter.\n",
    "    with pytest.raises(ValueError) as excinfo:\n",
    "        read_file.read_file(\"non-existing_file.txt\")\n",
    "\n",
    "    assert \"file does not exist\" in str(excinfo.value)\n",
    "```\n"
   ]
  },
  {
   "cell_type": "markdown",
   "metadata": {},
   "source": [
    "&#9989; **<font color=red>Step 3:</font>** Create following two input files we will use for testing. They should be in the same directory as testing script:\n",
    "\n",
    " - file ```input_good.inp```:\n",
    "```\n",
    "# header line\n",
    "1\n",
    "2\n",
    "3\n",
    "4\n",
    "5\n",
    "```\n",
    "\n",
    "\n",
    " - file ```input_bad.inp```:\n",
    "```\n",
    "# header line\n",
    "1\n",
    "2\n",
    "3\n",
    "4\n",
    "```\n"
   ]
  },
  {
   "cell_type": "markdown",
   "metadata": {},
   "source": [
    "&#9989; **<font color=red>Step 4:</font>** Let's test our code with a test file. Open a terminal, if you haven't it already, and go to testing directory (directory ```tests``` in your project). \n",
    "\n",
    "Setup ```PYTHONPATH``` to include directory where your source files are locate, and also newly created ```read_file.py``` - similar as you did when creating documentastion for your project. The command is: \n",
    "\n",
    " - **Linux/Unix/macOS**: ```export PYTHOPATH=<path-to-your-directory>:$PYTHONPATH```\n",
    " \n",
    " - **Windows** (in Anaconda Shell or Power Shell): ```set Pythonpath=<path-to-your-directory>;%Pythonpath%```\n",
    " \n",
    "\n",
    "\n",
    "When path is set, run test with:\n",
    "\n",
    "```pytest test_read_file.py```\n",
    "\n",
    "and the test should output the results of testing in the last line of the input. The line include number of passed and failed tests. In the example above, it should say that 3 tests passed (we had three functions in our test script) - the function ```read_file``` performs as intended.\n",
    "\n",
    "Two different ways to run the tests:\n",
    "\n",
    " - to get more verbose output of test performed, add ```-v``` argument to the **pytest**: ```pytest -v test_read_file.py```\n",
    " \n",
    " - to run all tests in the ```tests``` directory, run the **pytest** without any parameters: ```pytest``` (or ```pytest -v```)\n"
   ]
  },
  {
   "cell_type": "markdown",
   "metadata": {},
   "source": [
    "&#9989; **<font color=red>Step 5:</font>** Now change the Python script in a way, that the test will fail! Run testing with more verbose output (```-v```) to see what is tested and which test failed.\n",
    "\n",
    "There are many ways to do that, few of them are:\n",
    "\n",
    " - try testing input file **input_good.inp** in test function ```test_file_load_bad```. Test now fails. Why?\n",
    " - try returning **list** in ```read_file``` instead of **numpy array**. That test now fails.\n",
    " \n",
    " "
   ]
  },
  {
   "cell_type": "markdown",
   "metadata": {},
   "source": [
    "## Write a testing script for your project"
   ]
  },
  {
   "cell_type": "markdown",
   "metadata": {},
   "source": [
    "&#9989; **<font color=red>Step 1:</font>** First **idetify the class/method you wish to test**: that is the core computational method or your code or simple reading in input parameters. For chosen method, define **input parameters** and **expected results** for those parameters. With testing you will ensure the methods will return expected results for certain input parameters.\n"
   ]
  },
  {
   "cell_type": "markdown",
   "metadata": {},
   "source": [
    "&#9989; **<font color=red>Step 2:</font>** Write a testing script in directory ```tests``` and confirm that test script can catch errors in the selected function - the same was as in **Step 4** on previous section.\n"
   ]
  },
  {
   "cell_type": "markdown",
   "metadata": {},
   "source": [
    "&#9989; **<font color=red>Step 3:</font>** Now you are ready to use pytest to harden your code and reduce the number of bugs!"
   ]
  },
  {
   "cell_type": "markdown",
   "metadata": {},
   "source": [
    "## Advanced users\n",
    "\n",
    "If you want to make testing hassle free, create a shell script to setup all necessary paths and run the tests.\n",
    "\n",
    "Save the following lines in a script to the `tests` directory:\n",
    "\n",
    "```bash\n",
    "#!/bin/bash\n",
    "OLD_PPATH=$PYTHONPATH\n",
    "export PYTHONPATH=<path_to_the_project>:$PAYTHONPATH\n",
    "\n",
    "pytest\n",
    "\n",
    "export PYTHONPATH=$OLD_PPATH\n",
    "```\n"
   ]
  },
  {
   "cell_type": "markdown",
   "metadata": {},
   "source": [
    "## Cleaning you project directory\n",
    "\n",
    "If testing in **steps 1-4** was successful, you can delete files we used in this test: \n",
    " - three files in directory ```tests```: test_read_file.py, input_good.inp, input_bad.inp\n",
    " - Python script in your project directory: read_file.py\n",
    " \n",
    "These files were there only for practicing testing. But you can keep them and use them as a basis for your scripts."
   ]
  },
  {
   "cell_type": "markdown",
   "metadata": {},
   "source": [
    "## Additional reading - not mandatory!\n",
    "\n",
    "If you want to learn more about testing, adding options, parameters or pytest fixes, following videos would a good start. They are continuation of video from the beginning of this document:\n",
    "\n",
    "- Python Unit Testing With Pytest, video 2, 3, and 4\n"
   ]
  },
  {
   "cell_type": "code",
   "execution_count": null,
   "metadata": {},
   "outputs": [],
   "source": [
    "YouTubeVideo(\"VKY-0LEmrwk\",width=640,height=360,cc_load_policy=1)"
   ]
  },
  {
   "cell_type": "code",
   "execution_count": null,
   "metadata": {},
   "outputs": [],
   "source": [
    "YouTubeVideo(\"7qMhuVGqGY4\",width=640,height=360,cc_load_policy=1)"
   ]
  },
  {
   "cell_type": "code",
   "execution_count": null,
   "metadata": {},
   "outputs": [],
   "source": [
    "YouTubeVideo(\"JJmTO95AoqE\",width=640,height=360,cc_load_policy=1)"
   ]
  },
  {
   "cell_type": "markdown",
   "metadata": {},
   "source": [
    "---\n",
    "# Getting credit for your assignment\n",
    "\n",
    "Once you have added all of the template files to your repository and push those files to the server, please fill out the following Google form to get credit for the assignment. \n",
    "\n",
    "Or if you prefer, you can use the [Direct Link](https://docs.google.com/forms/d/e/1FAIpQLSe8uTDqvx6oIu31E9yHTDxFD4R1AyZB-klZPEccD7cICNHisQ/viewform)"
   ]
  },
  {
   "cell_type": "code",
   "execution_count": null,
   "metadata": {},
   "outputs": [],
   "source": [
    "from IPython.display import HTML\n",
    "HTML(\n",
    "\"\"\"\n",
    "<iframe \n",
    "\tsrc=\"https://docs.google.com/forms/d/e/1FAIpQLSe8uTDqvx6oIu31E9yHTDxFD4R1AyZB-klZPEccD7cICNHisQ/viewform\" \n",
    "\twidth=\"100%\" \n",
    "\theight=\"1200px\" \n",
    "\tframeborder=\"0\" \n",
    "\tmarginheight=\"0\" \n",
    "\tmarginwidth=\"0\">\n",
    "\tLoading...\n",
    "</iframe>\n",
    "\"\"\"\n",
    ")"
   ]
  },
  {
   "cell_type": "markdown",
   "metadata": {},
   "source": [
    "-----\n",
    "### Congratulations, you are done!\n",
    "\n",
    "Now, you just need to submit this report by uploading it to the course <a href=\"https://d2l.msu.edu/\">Desire2Learn</a> web page for today's dropbox."
   ]
  }
 ],
 "metadata": {
  "anaconda-cloud": {},
  "kernelspec": {
   "display_name": "Python 3",
   "language": "python",
   "name": "python3"
  },
  "language_info": {
   "codemirror_mode": {
    "name": "ipython",
    "version": 3
   },
   "file_extension": ".py",
   "mimetype": "text/x-python",
   "name": "python",
   "nbconvert_exporter": "python",
   "pygments_lexer": "ipython3",
   "version": "3.7.3"
  }
 },
 "nbformat": 4,
 "nbformat_minor": 4
}
