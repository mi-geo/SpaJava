{
 "cells": [
  {
   "cell_type": "markdown",
   "metadata": {},
   "source": [
    "# <center>Using Agent Based Models in Genocides Study</center>\n",
    "\n",
    "<center>by Teng Zhang</center>"
   ]
  },
  {
   "cell_type": "markdown",
   "metadata": {},
   "source": [
    "ABM has been used in many aspects in human geography study. As they could mimic the behavior of each person, household, animal herds, or other collectivities, geographers would like to apply the model in the studies that are hard to be explained in a traditional way. The most famous example in my field is the noticable Schelling's Model of Segregation, in which a model is built to help explain why segregation is so hard to combat and almost inevitable, if every single family could have the freewill to move. In Schelling's moedel, a household is the agent, while a urban area is the world.e  Besides, I have tried to build an ABM as well. It intends to explain how a \"walled\" community is gradually formed in a compound neighborhood in a urban area with communist landuse tenure system. \n",
    "\n",
    "However, I have not seen any ABM applied in genocide study yet, but I think it do have a strong potential in answering some several fundamental questions. The first question I might ask is, why it is so hard for a victim to hide or to be protected. \n",
    "\n",
    "## how people become victims?\n",
    "\n",
    "Although there are many exceptional exceptions, in a typical genocide event, the group of victim people and persecutors are both ordinary people and are fairly familiar with the other group. However, as the genocide begins, the designated victims would find they are hard to hide in their hometown. In Java, their kind neighbors would tell the militia their address, if the neighbors themselves didn't turn into killers. In Sumatra, the leader of Catholic church would write the name list of communists to the prosecutors/militias, which disobey any oath they have made before. As the result, the victim is hard to survive in their hometown, as they have to flee. This will make their living situation even worse. \n",
    "\n",
    "In this model, I could try to mimic a mechanism and see why does this happen. Similar to Schelling's ABM, I could take a single household in an Indonesia community as an agent, and their community as the world. The agents are connected with a standard social network model, like the small world model or else. Each family could be a communist (yet to be a victim), or affliated/sympathy to a communist, or indiffernet, or atagony to them. They might be or not be aware the members  of communists around them. The attitude could gradually change, and they will have a strong intentive to turn in a communist to the prosecutor if they have an antagonistic attitude to the communist. But it will make them hard to live if most of their social connections are having a different attitude. \n",
    "\n",
    "It might not be a perfect model, but I hope it could show us how the communists were exposed through time, and the importance of local support in preventing this tregedy. "
   ]
  }
 ],
 "metadata": {
  "anaconda-cloud": {},
  "kernelspec": {
   "display_name": "Python 3",
   "language": "python",
   "name": "python3"
  },
  "language_info": {
   "codemirror_mode": {
    "name": "ipython",
    "version": 3
   },
   "file_extension": ".py",
   "mimetype": "text/x-python",
   "name": "python",
   "nbconvert_exporter": "python",
   "pygments_lexer": "ipython3",
   "version": "3.7.3"
  }
 },
 "nbformat": 4,
 "nbformat_minor": 1
}
