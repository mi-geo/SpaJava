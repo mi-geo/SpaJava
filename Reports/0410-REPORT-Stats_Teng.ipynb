{
 "cells": [
  {
   "cell_type": "markdown",
   "metadata": {},
   "source": [
    "# <center>Using Statistical Models in Genocide Study</center>\n",
    "\n",
    "<center>by Teng Zhang</center>"
   ]
  },
  {
   "cell_type": "markdown",
   "metadata": {},
   "source": [
    "### background\n",
    "Obviously statistical models could be applied in any subjects in social science, including genocide and war study. But the current amount of researches with statistical models are not sufficient.\n",
    "\n",
    "Qualitative and quantitative are the two approaches towards genocide study. Many classical journal articles about genocide explore the cause, procedure and results of genocide. But most of these studies are based on narrative scripts, and individual chronographs. Inevitably, these researches are largely qualitative.\n",
    "\n",
    "For example, In Ordinary Men (Stammers, etc, 2017), the author uses script and archive in Nazi Germany's archive, and recovered the image of the killers. While actually in the widely cited now-classic textbooks (see Kuper, 1981), all the major influential articles were using narrative deductive way to tell their story. In these studies statistics are not repelled, but usually they are most likely to be just statistical description.\n",
    "\n",
    "Statistical description could provide insightful intonation to the current research as well. By a simply calculation of the loss of land and Jews people in Sweden, Bulgaria and other occupied countries in WWII, Bloodlands (Snyder, 2011) find the tension between resource and local society, and the then popular social Darwinism could be the most powerful explainer to the cause of genocide."
   ]
  },
  {
   "cell_type": "markdown",
   "metadata": {},
   "source": [
    "### future\n",
    "But doing analysis with statistical models could provide us an even deeper level of comprehending of genocide. And it has been more popular among scholars doing it. There are several advantage of adapting statistical models in analysis.\n",
    "\n",
    "First, it could help us distinguish different magnitude of different causes. For example, by analyzing the statistical relation between population loss and other social, economic and cultural factors, we may find the religion, land reform and political reform all play a role somehow (Chandra, 2017).\n",
    "\n",
    "Second, statistical models could help us find new clues that hidden beneath the observed phenomenon. By analyzing the geographic hot spot of population loss during a genocide procedure, we may find some features that makes the killings worse in some places. These places might be ignored by previous studies since the total population loss might be minor or the population are of less density. ."
   ]
  },
  {
   "cell_type": "markdown",
   "metadata": {},
   "source": [
    "---\n",
    "### References\n",
    "\n",
    "Stammers, T. and Chappel, J., 2017. Ordinary men: Reserve Police Battalion 101 and the final solution in Poland. CRC Press.\n",
    "\n",
    "Kuper, L., 1981. Genocide: Its political use in the twentieth century. Yale University Press.\n",
    "\n",
    "Snyder, T., 2011. Bloodlands: Europe between Hitler and Stalin. Random House.\n",
    "\n",
    "Chandra, S., 2017. New findings on the Indonesian killings of 1965–66. The Journal of Asian Studies, 76(4), pp.1059-1086."
   ]
  }
 ],
 "metadata": {
  "anaconda-cloud": {},
  "kernelspec": {
   "display_name": "Python 3",
   "language": "python",
   "name": "python3"
  },
  "language_info": {
   "codemirror_mode": {
    "name": "ipython",
    "version": 3
   },
   "file_extension": ".py",
   "mimetype": "text/x-python",
   "name": "python",
   "nbconvert_exporter": "python",
   "pygments_lexer": "ipython3",
   "version": "3.7.3"
  }
 },
 "nbformat": 4,
 "nbformat_minor": 1
}
