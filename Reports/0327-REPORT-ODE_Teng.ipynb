{
 "cells": [
  {
   "cell_type": "markdown",
   "metadata": {},
   "source": [
    "# <center>Using Ordinary Differential Equations (ODEs) in Genocide Study</center>\n",
    "\n",
    "<center>byTeng Zhang</center>"
   ]
  },
  {
   "cell_type": "markdown",
   "metadata": {},
   "source": [
    "<img alt=\"A 2D model simulation about epidemics\" src=\"https://upload.wikimedia.org/wikipedia/commons/a/a6/SIR_model_simulated_using_python.gif\">\n",
    "\n",
    "Image from: https://en.wikipedia.org/wiki/Compartmental_models_in_epidemiology\n"
   ]
  },
  {
   "cell_type": "markdown",
   "metadata": {},
   "source": [
    "# Current Research\n",
    "\n",
    "To my understanding, the purpose of ODE is to use the very initial condition and the momentum (derivate) of a system, to resolve the real form of the system. By far, ODE has not been applied to genocide studies, but it has great potential if relevant studies could inspire this field, like epidemiology. \n",
    "\n",
    "Compartmental models in epidemiology could adopt the format of a deterministic ODE, although it also comprises a stochastic component as well. The graph above showed is a 2D SIR model, which is one of the simplest compartmental models. It consists of three dependent compartments: S for the number of susceptible, I for the number of infectious, and R for the number of recovered or deceased individuals. Thus, the sum of S, I and R equals the total population N at any given time t, and the derivatives of S, I, and R are all related.  \n",
    "\n",
    "An easy conclusion from this model is, if R0 (Basic reproduction number) is larger than the rate of the population to a susceptible population, the disease will get spread. There are both analytical and computer resolutions to this model. \n",
    "\n",
    "\n",
    "# Potential\n",
    "To some extent, the pattern of killings is similar to the spread of disease, at least based on some hypothesis in some school of studies. In some theories, the prosecutors could be everyone, since the killings are inspired by the local culture. This is partially true as in some parts of Southeast Asian, traditionally bloody conflicts between villages or ethnic groups have last for thousands of years. But I assume we could use a similar ODE model to testify this theory. \n",
    "\n",
    "The order of kill started from one point to another, and the killings emerged from one place to more. The victims are in a group of susceptibly vulnerable populations, while the killers are somehow encouraged or infectious to the idea of killings. If the killings are gone through a region, that region will become immune to the killing. And also, during a genocide often a person could either participate or support the killing, or become a victim on different levels. By doing these assumptions, we could make an ODE model, and let variables be derivates to either time or location. If the final result meets empirical studies, the hypothesis is largely justifiable. \n",
    "\n",
    "I believe as we could get more and more data from previous studies, we could use ODE to support or overthrew existing theories in genocide studies. "
   ]
  }
 ],
 "metadata": {
  "anaconda-cloud": {},
  "kernelspec": {
   "display_name": "Python 3",
   "language": "python",
   "name": "python3"
  },
  "language_info": {
   "codemirror_mode": {
    "name": "ipython",
    "version": 3
   },
   "file_extension": ".py",
   "mimetype": "text/x-python",
   "name": "python",
   "nbconvert_exporter": "python",
   "pygments_lexer": "ipython3",
   "version": "3.7.3"
  }
 },
 "nbformat": 4,
 "nbformat_minor": 1
}
