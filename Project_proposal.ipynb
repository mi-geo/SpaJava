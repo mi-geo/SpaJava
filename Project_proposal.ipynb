{
 "cells": [
  {
   "cell_type": "markdown",
   "metadata": {},
   "source": [
    "#  <center>Illustrating Genocide with Geographically Disaggregated Data</center>\n",
    "<center>By Teng Zhang</center>"
   ]
  },
  {
   "cell_type": "markdown",
   "metadata": {},
   "source": [
    "<img src=\"https://upload.wikimedia.org/wikipedia/commons/8/8e/Bromo-Semeru-Batok-Widodaren.jpg\" width=\"60%\">\n",
    "<p style=\"text-align: right;\">Image from: Wikimedia</p>"
   ]
  },
  {
   "cell_type": "markdown",
   "metadata": {},
   "source": [
    "---\n",
    "# Overview\n",
    "\n",
    "Genocide, in many ways, could profoundly affect local economic and social landscapes, as massacres and killings are usually methodically implemented through a geographic framework. With the help of new spatial techniques, the geographic nature of genocide has prompted studies to adopt a geographic perspective to explore the spatial variability of genocide and its consequences, although this type of study is still insufficient in several historical events because of the availability of data.\n",
    "\n",
    "The event in my research will be the Indonesian mass killings of 1965–66, during which more than 500,000 people were killed, and more than 1 million incarcerated. Despite its huge-scale and intensity, and its decisive impact on the country’s future path, the mass killings of 1965-66 are still largely ignored by mainstream academia, especially from a geographical perspective.\n",
    "\n",
    "My research target will be interpreting the killings through a programmed geospatial approach. Similar to the Holocaust and other democides thereafter, there is enough evidence to support that the killings in Indonesia were well organized and premeditated. In addition, local context and environment also had a role in the killings, as many executions and incarcerations were implemented through or assisted by the local community and militia. These features of the killings in Indonesia make it necessary and possible to interpret the event through a perspective of human geography, especially finding a framework to integrate both the micro approaches and macro ones. \n",
    "\n",
    "However, the geographical heterogeneity of its severity and causal factors is less researched in the past. Python programming could help me gridify the data (from polygons into pixels) and build an integrated empirical framework for demonstrating the event, the causes and their functioning scales. \n",
    "\n"
   ]
  },
  {
   "cell_type": "markdown",
   "metadata": {},
   "source": [
    "---\n",
    "# Program Description\n",
    "\n",
    "The Python program for my dissertation would be an auto analysis tool for cacluating my final result automatically. The study will be focused on spaital analysis, with both input and output layers as the raster formats. \n",
    "\n",
    "There are two steps of this project. First one is to establish the population data set that we need, while the second is the spaital analysis.  \n",
    "\n",
    "Raw Populaton data are derived from census data. If I project the data into a map, each adminsitrative divison will be a polygon on the map, while the population inside is evenly distributed. However, this even-distribution is a very strong assumption and nore realistic at all. In the real world in east java, population in each district aggregated in small hamlets, which are restrained by local landscape and infrastructures. \n",
    "\n",
    "Besides the zonal census data, I (will) have pixel data (or polygons) showing where the human settlements are. The whole idea of this part is to allocate data into pixels, letting that as close to the reality of population distribution as possible. With this in mind, the loss of population in each pixel could be caculated as well. \n",
    "\n",
    "The second part is spatial analysis, i.e. analyzing what factors impacted the population change and loss. It is basicall analyzing the spaital relations of several different layers of data.\n",
    "\n",
    "$$Y_d = X_1 + X_2$$\n",
    "\n"
   ]
  },
  {
   "cell_type": "markdown",
   "metadata": {},
   "source": [
    "---\n",
    "# Project Goals and Timeline\n",
    "\n",
    "There are three goals of my program. They are listed as followed: \n",
    "\n",
    "- **1.** a program for allocate zonal data into pixels based on a set of parameters. (by end Feb)\n",
    "- **2.** a program for simulate a set of N * N grids, each of which are allocated with different values of social-economic data, and find the optimistic way of modeling for these observations. (by end March)\n",
    "- **3.** this might not be a program, but the third goal is to build a function predicting or linking the social-economic factors with the severity of genocide (by the end of this semester)"
   ]
  },
  {
   "cell_type": "markdown",
   "metadata": {},
   "source": [
    "---\n",
    "# Anticipating Challenges  \n",
    "\n",
    "There are several exisitng packages (at least in R) dealing the converting from polygons to pixels, but my desire is to make the process more flexible and fit my own research. \n",
    "Potential challenges include: \n",
    "\n",
    "- **1.** find the best way to draw a pixel figure.\n",
    "- **2.** find a way to distinguish my research with the others.\n",
    "- **3.** by multiple simulations finding the best band for my geographic related regression/model, etc. \n",
    "- **4.** the agent-based model, which I'm not sure if I should do it or not. "
   ]
  }
 ],
 "metadata": {
  "anaconda-cloud": {},
  "kernelspec": {
   "display_name": "Python 3",
   "language": "python",
   "name": "python3"
  },
  "language_info": {
   "codemirror_mode": {
    "name": "ipython",
    "version": 3
   },
   "file_extension": ".py",
   "mimetype": "text/x-python",
   "name": "python",
   "nbconvert_exporter": "python",
   "pygments_lexer": "ipython3",
   "version": "3.7.6"
  }
 },
 "nbformat": 4,
 "nbformat_minor": 1
}
