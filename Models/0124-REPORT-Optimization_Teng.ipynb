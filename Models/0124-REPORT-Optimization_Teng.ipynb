{
 "cells": [
  {
   "cell_type": "markdown",
   "metadata": {},
   "source": [
    "# <center>Using Optimization in Spatial Analysis in Human Geography</center>\n",
    "\n",
    "<center>by Teng Zhang</center>\n",
    "\n",
    "\n",
    "## Spatial Analysis in Human Geography (5 cites)\n",
    "\n",
    "[Human Geographers](https://en.wikipedia.org/wiki/Human_geography) are interested in research of people and their communities, cultures, economies, and interactions with the environment, by studying their relations with and across space and place. As one tool of study, spaital analysis could play a useful part for us to understand the patterns as well as spatial relations behind a geographic phenomenon quantatively. \n",
    "\n",
    "Spaital analysis seeks to explain patterns and relations  of human behavior and its spatial expression, and it comprises several essential parts, including point pattern analysis (PPA, see [Boots & Getis, 1993](https://www.google.com/books/edition/Point_Pattern_Analysis/nJwQAQAAIAAJ?hl=en)), continous point data analysis and zonal data analysis (see,[Fotheringham & Rogerson, 1991](https://books.google.com/books?id=Hirdl1ZFE38C&newbks=0&printsec=frontcover&dq=spatial+analysis&hl=en&source=newbks_fb#v=onepage&q=spatial%20analysis&f=false)). By doing this, we should be able to estimate the variable that we are interested in.  \n",
    "\n",
    "Essentially the format of spatial analysis could be formed as a function: $$Z_i = f(x_i,....,r)$$, in which $Z_i$ stand for the density (for PPA) of points, or the dependant variable of our oberservation $i$, while $X_i$ (a vector) means the other independant variables of $i$. \"...\" includes the independant variables from other observations ($1~n$, excluding $i$). Because of potential spaital autocorrelation amongs observations, they would impact $Z_i$ as well. And $r$ means the location of $i$(coordinates). \n",
    "\n",
    "Since this is a function, it makes spaital analysis a perfect example for optimization. Many research questions in human geography is essentially to predict the value of dependant variables, or to find the best model for this function $f()$. \n",
    "\n",
    "However, one of the reason why [optimization](https://books.google.com/books?hl=en&lr=&id=c0EP_6eYsjAC&oi=fnd&pg=PR4&dq=Handbook+of+applied+spatial+analysis&ots=JCI8qj7I7Y&sig=S26Rys1ms_-8iaMnRzZmmsWaGng#v=onepage&q=Handbook%20of%20applied%20spatial%20analysis&f=false) is not frequently (if not never) used in my field, is the availability of data. Unlike in physical geography, where their observation could be of millions (data about weather, ocean current, etc) and repeatable, in a human geography, usually there are only several hundreds of observations, which makes it unrealistic to make optimizations. \n",
    "\n",
    "\n",
    "## Future Applications\n",
    "\n",
    "Given the potential of optimization, I would assume it would open a new page in my area if we could apply this idea in our studies. The biggest obstacle here is the avaialblity of data. My solution to this problem is overlaying more layers of relevant data. I will add layers of pixal datas (grids, like satelitle maps, in which data variation is pretty high and give us a chance to enhance the variability of dataset. By allocate the data we have to the observations/pixals in new finer locations, we could mutiple the number of our samples from a few hundreds to tens of thousands. \n",
    "\n",
    "In the following part, I'll use two cases to illustrate how optimization could be applied in some research questions in my study. \n",
    "\n",
    "\n",
    "## Potential Cases: Genocide in Indonesia\n",
    "\n",
    "### research question: where can I find a mass grave in Indonesia? \n",
    "\n",
    "A part of my research is about predicting the locations of [mass graves](https://sp.lyellcollection.org/content/232/1/33.short?casa_token=3dM9fgbZy7sAAAAA:gS9E6gFG5sBSHHy6TQkQlUaKSh9cPInL4xTC8vRqHIiHbEDoX2Ed31FpXkdBzrLGuNeRuwfehpf_5Q). Mass graves are the places where more than 5 (or more) people were buried in/after a genocide. In the study of mine, there are estimated more than a few thousands mass graves in Indonesia. But only around one thousand of them have been discovered. \n",
    "\n",
    "The location of a mass grave is not arbitrarily selected. On a regional level, it would be affected by several local context indicators, e.g. local support of the [pepatrators](https://www.hbuhaug.com/wp-content/uploads/2014/02/PG-2006-for-web.pdf), local custom of funeral, and local death tolls. On a micro level, local forest-cover, local waterways and even local [rainfall](https://journals.sagepub.com/doi/pdf/10.1177/0022343311426165?casa_token=8cXuNSl8Je8AAAAA:ghgadEv4cHvObg2LDZ6I1hkAebYhul0iF_93TLUenBLPrBPaeRdeJ3A9_e1I3DSTCmG_JDxcDyEO) all have something to do with gonocide conflict. If we could find some appropriate metric to measure all these variables of the given examples, we could build a model and predict the location choice of mass graves, and could predict the likelyhood of discovering another mass grave in a certain place. \n",
    "\n",
    "\n",
    "### research question: distance of impact from major road networks\n",
    "\n",
    "The implementation of killings is largely from or encouraged by the Indonesian army, as such the accessilibility of a particular village could determine the loss of population for these armies. Accessibilty of a location could be evaluated by its connectivity with major road network, thus we could have an hypothesis, as the distance to a major road would impact the loss of population.  $$Population Loss = f(DistanceToRoad)$$     However, the particular format of this function is largely unknown. We need to find the best function for this formula. \n",
    "Since our job is to find the correct model, we could try to find which model gives us the best fit, which is a typical optimization question. "
   ]
  }
 ],
 "metadata": {
  "anaconda-cloud": {},
  "kernelspec": {
   "display_name": "Python 3",
   "language": "python",
   "name": "python3"
  },
  "language_info": {
   "codemirror_mode": {
    "name": "ipython",
    "version": 3
   },
   "file_extension": ".py",
   "mimetype": "text/x-python",
   "name": "python",
   "nbconvert_exporter": "python",
   "pygments_lexer": "ipython3",
   "version": "3.7.3"
  }
 },
 "nbformat": 4,
 "nbformat_minor": 1
}
