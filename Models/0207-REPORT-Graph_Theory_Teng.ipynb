{
 "cells": [
  {
   "cell_type": "markdown",
   "metadata": {},
   "source": [
    "# <center>Using Graph Theory in Spatial Analysis of Genocide Study</center>\n",
    "\n",
    "<center>by Teng Zhang</center>"
   ]
  },
  {
   "cell_type": "markdown",
   "metadata": {},
   "source": [
    "The most popular application of Graph Theory in social science is social network analysis ([Wellman, B., 2001](https://science.sciencemag.org/content/sci/293/5537/2031.full.pdf?casa_token=nsdATz1smvoAAAAA:FM5dLxhLu73pFd7gZHBsZGWpcVIYSk5mS_RZEl8ViTdEWub7kY68YrcEEQVPZ5hSxBJA58YDCFx1VQ)), which intend to analyze the interaction of organization, entity, and people. By thinking like this, it can be used in genocide study as well. However, it's not widely applied in this field of study yet, but I would say, there are at least a few aspects in which network analysis could play a role. There are two types of networks, including 1. the network of places, 2. the network of people. \n",
    "\n",
    "<img src=\"https://upload.wikimedia.org/wikipedia/commons/thumb/b/b8/Eastern_Front_1941-06_to_1941-12.png/800px-Eastern_Front_1941-06_to_1941-12.png\" width=\"60%\">\n",
    "<p style=\"text-align: right;\">Nazi Germany East Front, from: Wikimedia</p>\n",
    "\n",
    "**Network of Places**\n",
    "\n",
    "It is easy to imagine a network of cities. \n",
    "In this network, cities are the nodes in a graph, while roads are the paths connecting them. Among modern-day cities, usually, there could be different types of, and usually more than one, roads linking two cities. They could be highways as well as goat tracks, and width, quality, and capacity could be assigned as the values of the paths. \n",
    "In social science, roads are not the only entities that could represent a path. The flow of people, cars, cargos, and information could be the paths as well. \n",
    "In the genocide study, the persecutors (usually an army, see [Snyder, T., 2011.](https://books.google.com/books?hl=en&lr=&id=7u-bi5F3PysC&oi=fnd&pg=PT13&dq=bloodlands&ots=oMId8-aENc&sig=iEwRoExQ8L2mJkBtnsgv7YIonf4#v=onepage&q=bloodlands&f=false)) were moving from one city (villages) to another, and their movement could be regarded as a path. To find this network is essential in identifying who is responsible for the death, however, usually, armies won't keep a diary or record their daily movement [Anderson, B., 2001](https://osmanisnin.wordpress.com/2016/04/17/a-preliminary-analysis-of-the-october-1-1965-coup-in-indonesia/). If they have, it will just be pieces of fractions. \n",
    "However, sometimes in each place (cities, villages), we could find records of the total number of death and the date of an event. If we could know this information from enough cities, we could find a way to draw a network, showing the route of the armies (see the map above).\n",
    "Of course, at this time we could also find external pieces of evidence partially proving our path, as it will be strong support for this research result. Even if we already know their marching path, it's possible we could find something new by applying graph theory.  \n",
    "In a famous study recently, researchers try to identify the cultural centers in Europe during the renaissance. They find all the possible letters in Europe at that time and identify the route of them. Then, of course, several major nodes of the letters should be the centers of culture in Europe then. \n",
    "The result is surprising. Several nodes are pretty clear as expected, including Rome, Paris and Vienna. However, Moscow is also on this list! and this city was completely ignored by the previous studies. And this research actually led a new chapter of Russia study. \n",
    "\n",
    "**Network of People**\n",
    "\n",
    "The network of places is still an absolute, realistic work. But the network of people is more virtual and abstract. With the development of social media, nowadays thousands of studies are trying to use these data and analyzing the linkage between people (user account). By doing this, they could find the passway of virus message spreading, the major nodes of a social network, etc. \n",
    "And of course, this idea could be applied in genocide study as well. For example, those officers who are loyal to the central military, which gave the order of killing, might be easier to get a promotion. \n",
    "Thus we could do a network analysis among the current officers today, and see if their connections with each other could be traced back to when the genocide happened. \n",
    "\n",
    "\n",
    "    \n",
    "    \n",
    "\n",
    "\n",
    "**Refereces:**    \n",
    "Anderson, B. and McVey, R.T., 2009. A preliminary analysis of the October 1, 1965 coup in Indonesia. Equinox Publishing.    \n",
    "Snyder, T., 2011. Bloodlands: Europe between Hitler and Stalin. Random House.    \n",
    "Wellman, B., 2001. Computer networks as social networks. Science, 293(5537), pp.2031-2034."
   ]
  }
 ],
 "metadata": {
  "anaconda-cloud": {},
  "kernelspec": {
   "display_name": "Python 3",
   "language": "python",
   "name": "python3"
  },
  "language_info": {
   "codemirror_mode": {
    "name": "ipython",
    "version": 3
   },
   "file_extension": ".py",
   "mimetype": "text/x-python",
   "name": "python",
   "nbconvert_exporter": "python",
   "pygments_lexer": "ipython3",
   "version": "3.7.3"
  }
 },
 "nbformat": 4,
 "nbformat_minor": 1
}
